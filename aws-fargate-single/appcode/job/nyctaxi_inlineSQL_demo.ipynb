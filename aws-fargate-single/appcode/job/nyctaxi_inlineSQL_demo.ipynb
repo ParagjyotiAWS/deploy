{
 "cells": [
  {
   "cell_type": "code",
   "execution_count": null,
   "metadata": {},
   "outputs": [],
   "source": [
    "%conf\n",
    "numRows=3"
   ]
  },
  {
   "cell_type": "markdown",
   "metadata": {},
   "source": [
    "## 1. Extract NYC taxi data"
   ]
  },
  {
   "cell_type": "code",
   "execution_count": null,
   "metadata": {},
   "outputs": [],
   "source": [
    "{\n",
    "  \"type\": \"DelimitedExtract\",\n",
    "  \"name\": \"extract monthly data from green_tripdata\",\n",
    "  \"environments\": [\"dev\", \"test\"],\n",
    "  \"inputURI\": \"s3a://nyc-tlc/trip*data/green_tripdata_2013-08.csv\",\n",
    "  \"outputView\": \"green_tripdata0_raw\",            \n",
    "  \"delimiter\": \"Comma\",\n",
    "  \"quote\" : \"DoubleQuote\",\n",
    "  \"header\": true,\n",
    "  \"persist\": true\n",
    "}"
   ]
  },
  {
   "cell_type": "markdown",
   "metadata": {},
   "source": [
    "## 1.2 Check source data schema"
   ]
  },
  {
   "cell_type": "code",
   "execution_count": null,
   "metadata": {},
   "outputs": [],
   "source": [
    "%printschema\n",
    "green_tripdata0_raw"
   ]
  },
  {
   "cell_type": "markdown",
   "metadata": {
    "ExecuteTime": {
     "start_time": "2020-03-03T08:30:30.028Z"
    }
   },
   "source": [
    "## 2. Convert Data Type\n",
    "\n",
    "### Apply original data type to CSV text, based on meta data provided. \n",
    "for example: timestamp"
   ]
  },
  {
   "cell_type": "code",
   "execution_count": null,
   "metadata": {},
   "outputs": [],
   "source": [
    "{\n",
    "  \"type\": \"TypingTransform\",\n",
    "  \"name\": \"apply green_tripdata initial schema 0\",\n",
    "  \"environments\": [\"dev\", \"test\"],\n",
    "  \"schemaURI\": \"s3a://\"${ETL_CONF_INPUT_LOC}\"/meta/green_tripdata_meta0.json\",\n",
    "  \"inputView\": \"green_tripdata0_raw\",            \n",
    "  \"outputView\": \"green_tripdata0\",\n",
    "  \"persist\": false,\n",
    "  \"authentication\": {\n",
    "     \"method\": \"AmazonIAM\"\n",
    "  }\n",
    "}"
   ]
  },
  {
   "cell_type": "markdown",
   "metadata": {},
   "source": [
    "## 2.1 Check typed data schema"
   ]
  },
  {
   "cell_type": "code",
   "execution_count": null,
   "metadata": {},
   "outputs": [],
   "source": [
    "%printschema \n",
    "green_tripdata0"
   ]
  },
  {
   "cell_type": "markdown",
   "metadata": {},
   "source": [
    "## 3. SQL-based data validation\n",
    "\n",
    "### Make sure the type conversion is error free. \n",
    "note: if the result return error or reach certain threshold, can decide to fail the ETL pipeline at a early stage."
   ]
  },
  {
   "cell_type": "code",
   "execution_count": null,
   "metadata": {},
   "outputs": [],
   "source": [
    "%sqlvalidate name=\"sqlvalidate\" description=\"ensure no errors exist after data typing transformation\" environments=dev,test sqlParams=inputView=green_tripdata0 \n",
    "\n",
    "SELECT\n",
    "  SUM(error) = 0 AS valid\n",
    "  ,TO_JSON(NAMED_STRUCT(\n",
    "        'count', COUNT(error), \n",
    "        'errors', SUM(error)\n",
    "      )\n",
    "  ) AS message\n",
    "FROM (\n",
    "  SELECT \n",
    "    CASE \n",
    "      WHEN SIZE(_errors) > 0 THEN 1 \n",
    "      ELSE 0 \n",
    "    END AS error \n",
    "  FROM ${inputView}\n",
    ") input_table"
   ]
  },
  {
   "cell_type": "markdown",
   "metadata": {},
   "source": [
    "## 4. Output typed data to Data Lake\n",
    "### Delta Lake is an optimized data lake with ACID transaction support"
   ]
  },
  {
   "cell_type": "code",
   "execution_count": null,
   "metadata": {},
   "outputs": [],
   "source": [
    "{\n",
    "  \"type\": \"DeltaLakeLoad\",\n",
    "  \"name\": \"write green_tripdata0 to Data Lake\",\n",
    "  \"environments\": [\"dev\", \"test\"],\n",
    "  \"inputView\": \"green_tripdata0\",\n",
    "  \"outputURI\": \"s3a://\"${ETL_CONF_INPUT_LOC}\"/output/green_tripdata0\",\n",
    "  \"saveMode\": \"Append\",\n",
    "  \"partitionBy\": [\n",
    "    \"vendor_id\"\n",
    "  ],\n",
    "  \"authentication\": {\n",
    "     \"method\": \"AmazonIAM\"\n",
    "  }\n",
    "}"
   ]
  },
  {
   "cell_type": "markdown",
   "metadata": {},
   "source": [
    "## 5. SQL-based: list areas with high pickup rates"
   ]
  },
  {
   "cell_type": "code",
   "execution_count": null,
   "metadata": {},
   "outputs": [],
   "source": [
    "%sql outputView=\"high_pickup\" description=\"Group location coordinates by number of pickups\" environments=dev,test sqlParams=inputView=green_tripdata0\n",
    "\n",
    "SELECT count(\"_index\") AS pickup_cnt ,sum(Passenger_count) AS Passenger_count, pickup_longitude, pickup_latitude\n",
    "FROM ${inputView}\n",
    "WHERE pickup_longitude is not null\n",
    "GROUP BY pickup_longitude, pickup_latitude\n",
    "ORDER BY pickup_cnt DESC"
   ]
  },
  {
   "cell_type": "markdown",
   "metadata": {},
   "source": [
    "## 6. SQL-based: average trip duration to JFK by pickup hour"
   ]
  },
  {
   "cell_type": "code",
   "execution_count": null,
   "metadata": {},
   "outputs": [],
   "source": [
    "%sql outputView=\"trip_duration\" description=\"Average trip duration to JFK by pickup hour\" environments=dev,test sqlParams=inputView=green_tripdata0 \n",
    "\n",
    "SELECT CAST(avg(trip_duration) as DECIMAL(18,2)) AS avg_trip_duration, HOUR(lpep_pickup_datetime) AS pickup_hour\n",
    "FROM\n",
    "(\n",
    "  SELECT (unix_timestamp(lpep_dropoff_datetime) - unix_timestamp(lpep_pickup_datetime))/60 AS trip_duration\n",
    "        ,lpep_pickup_datetime\n",
    "        ,lpep_dropoff_datetime\n",
    "  FROM ${inputView}\n",
    "  WHERE dropoff_latitude BETWEEN 40.640668 AND 40.651381\n",
    "  AND dropoff_longitude BETWEEN -73.794694 AND -73.776283\n",
    " )\n",
    "GROUP BY pickup_hour\n",
    "ORDER BY avg_trip_duration"
   ]
  },
  {
   "cell_type": "markdown",
   "metadata": {
    "ExecuteTime": {
     "end_time": "2020-03-25T01:50:21.853813Z",
     "start_time": "2020-03-25T01:49:55.902Z"
    }
   },
   "source": [
    "## 7. Write reporting datasets to Data Lake"
   ]
  },
  {
   "cell_type": "code",
   "execution_count": null,
   "metadata": {},
   "outputs": [],
   "source": [
    "{\n",
    "  \"type\": \"ParquetLoad\",\n",
    "  \"name\": \"Output high pickup rate dataset to Data Lake\",\n",
    "  \"environments\": [\"dev\", \"test\"],\n",
    "  \"inputView\": \"high_pickup\",\n",
    "  \"outputURI\": \"s3a://\"${ETL_CONF_INPUT_LOC}\"/output/high_pickup\",\n",
    "  \"saveMode\": \"Overwrite\",\n",
    "  \"numPartitions\":1, \n",
    "  \"authentication\": {\n",
    "     \"method\": \"AmazonIAM\"\n",
    "  }\n",
    "}"
   ]
  },
  {
   "cell_type": "code",
   "execution_count": null,
   "metadata": {},
   "outputs": [],
   "source": [
    "{\n",
    "  \"type\": \"ParquetLoad\",\n",
    "  \"name\": \"Output avg trip duration dataset to Data Lake\",\n",
    "  \"environments\": [\"dev\", \"test\"],\n",
    "  \"inputView\": \"trip_duration\",\n",
    "  \"outputURI\": \"s3a://\"${ETL_CONF_INPUT_LOC}\"/output/trip_duration\",\n",
    "  \"saveMode\": \"Overwrite\",\n",
    "  \"numPartitions\":1,\n",
    "  \"authentication\": {\n",
    "     \"method\": \"AmazonIAM\"\n",
    "  }\n",
    "}"
   ]
  },
  {
   "cell_type": "markdown",
   "metadata": {
    "ExecuteTime": {
     "end_time": "2020-05-10T15:04:21.314637Z",
     "start_time": "2020-05-10T15:04:21.274Z"
    }
   },
   "source": [
    "## 8. Build metadata for direct query (OPTIONAL)\n",
    "Create data catalog in Glue via Athena. \n",
    "NOTE: Before running the following block, input correct Athena credential in your Secrets Manager, then delete a jupyter task in ECS console to refresh the access key pair."
   ]
  },
  {
   "cell_type": "code",
   "execution_count": null,
   "metadata": {},
   "outputs": [],
   "source": [
    "{\n",
    "  \"type\": \"JDBCExecute\",\n",
    "  \"name\": \"Create high pickup data catalog\",\n",
    "  \"environments\": [\n",
    "    \"production\",\n",
    "    \"test\"\n",
    "  ],\n",
    "  \"inputURI\": \"s3a://\"${ETL_CONF_INPUT_LOC}\"/appcode/sql/create_table_highpickup.sql\",\n",
    "  \"jdbcURL\": \"jdbc:awsathena://AwsRegion=ap-southeast-2;S3OutputLocation=s3://aws-athena-query-results-\"${ETL_CONF_INPUT_LOC}\"/;User=\"${ATHENA_ETL_CONF_S3A_ACCESS_KEY}\";Password=\"${ATHENA_ETL_CONF_S3A_SECRET_KEY},\n",
    "  \"sqlParams\":{\n",
    "    \"datalake_loc\": \"'s3://\"${ETL_CONF_INPUT_LOC}\"/output/high_pickup'\",\n",
    "    \"table_name\": \"default.test_high_pickup\"\n",
    "  }\n",
    "}"
   ]
  },
  {
   "cell_type": "code",
   "execution_count": null,
   "metadata": {},
   "outputs": [],
   "source": [
    "{\n",
    "  \"type\": \"JDBCExecute\",\n",
    "  \"name\": \"Create avg duration data catalog\",\n",
    "  \"environments\": [\n",
    "    \"production\",\n",
    "    \"test\"\n",
    "  ],\n",
    "  \"inputURI\": \"s3a://\"${ETL_CONF_INPUT_LOC}\"/appcode/sql/create_table_duration.sql\",\n",
    "  \"jdbcURL\": \"jdbc:awsathena://AwsRegion=ap-southeast-2;S3OutputLocation=s3://aws-athena-query-results-\"${ETL_CONF_INPUT_LOC}\"/;User=\"${ATHENA_ETL_CONF_S3A_ACCESS_KEY}\";Password=\"${ATHENA_ETL_CONF_S3A_SECRET_KEY},\n",
    "  \"sqlParams\":{\n",
    "    \"datalake_loc\": \"'s3://\"${ETL_CONF_INPUT_LOC}\"/output/trip_duration'\",\n",
    "    \"table_name\": \"default.test_trip_duration\"\n",
    "  }\n",
    "}"
   ]
  },
  {
   "cell_type": "code",
   "execution_count": null,
   "metadata": {},
   "outputs": [],
   "source": [
    "{\n",
    "  \"type\": \"JDBCExecute\",\n",
    "  \"name\": \"Create green trip data catalog\",\n",
    "  \"environments\": [\n",
    "    \"production\",\n",
    "    \"test\"\n",
    "  ],\n",
    "  \"inputURI\": \"s3a://\"${ETL_CONF_INPUT_LOC}\"/appcode/sql/create_table.sql\",\n",
    "  \"jdbcURL\": \"jdbc:awsathena://AwsRegion=ap-southeast-2;S3OutputLocation=s3://aws-athena-query-results-\"${ETL_CONF_INPUT_LOC}\"/;User=\"${ATHENA_ETL_CONF_S3A_ACCESS_KEY}\";Password=\"${ATHENA_ETL_CONF_S3A_SECRET_KEY},\n",
    "  \"sqlParams\":{\n",
    "    \"datalake_loc\": \"'s3://\"${ETL_CONF_INPUT_LOC}\"/output/green_tripdata0/_symlink_format_manifest'\",\n",
    "    \"table_name\": \"default.test_green_tripdata0\"\n",
    "  }\n",
    "}"
   ]
  },
  {
   "cell_type": "code",
   "execution_count": null,
   "metadata": {},
   "outputs": [],
   "source": [
    "{\n",
    "  \"type\": \"JDBCExecute\",\n",
    "  \"name\": \"refresh table partitions\",\n",
    "  \"environments\": [\n",
    "    \"production\",\n",
    "    \"test\"\n",
    "  ],\n",
    "  \"inputURI\": \"s3a://\"${ETL_CONF_INPUT_LOC}\"/appcode/sql/repair_table.sql\",\n",
    "  \"jdbcURL\": \"jdbc:awsathena://AwsRegion=ap-southeast-2;S3OutputLocation=s3://aws-athena-query-results-\"${ETL_CONF_INPUT_LOC}\"/;User=\"${ATHENA_ETL_CONF_S3A_ACCESS_KEY}\";Password=\"${ATHENA_ETL_CONF_S3A_SECRET_KEY},\n",
    "  \"sqlParams\":{\n",
    "    \"table_name\": \"default.test_green_tripdata0\"\n",
    "  }\n",
    "}"
   ]
  },
  {
   "cell_type": "code",
   "execution_count": null,
   "metadata": {},
   "outputs": [],
   "source": []
  }
 ],
 "metadata": {
  "kernelspec": {
   "display_name": "Arc",
   "language": "javascript",
   "name": "arc"
  },
  "language_info": {
   "file_extension": "arc",
   "mimetype": "text/arc",
   "name": "arc",
   "nbconvert_exporter": "text",
   "version": "2.3.3"
  }
 },
 "nbformat": 4,
 "nbformat_minor": 2
}
